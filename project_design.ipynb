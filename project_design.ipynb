{
 "cells": [
  {
   "cell_type": "markdown",
   "id": "25da3442",
   "metadata": {},
   "source": [
    "<h1><i>'Spikk Looder'</i>: Reviving the Shetland Dialect with AI</h1>\n",
    "\n",
    "<h2>Concept</h2>\n",
    "\n",
    "<p>‘SpikkBot’ is an AI-powered chatbot designed to promote and preserve Shetland dialect through engaging, conversational interactions. It uses a curated dataset of Shetland speech and phrases to respond to user input in a natural, friendly way. Inspired by the value of local heritage and the importance of accessible cultural preservation, ‘SpikkBot’ aims to engage users of all ages in learning and using the dialect confidently and authentically.\n",
    "\n",
    "The data is to be sourced from a mixture of places: dialect speaking locals, ‘experts’ in Shetland dialect heritage e.g. through pronunciation, idioms, and spellings, along with the data that is currently available from the online Shetland Dictionary, the Shetland Museum and Archives, and other research papers. This ensures that ‘Spikkbot’ reflects the richness and diversity of Shetland’s oral and written history. Unlike general purpose chatbots, ‘Spikkbot’ is trained to understand and generate dialect specific grammar, idioms, speech, and pronunciation, creating an educational and engaging experience for the user.\n",
    "\n",
    "Developing the bot, a human-centred design (HCD) approach was at the core of the design process. The project began by identifying a meaningful gap, which was the inaccessibility or inactivity of Shetland dialect in everyday life. In line with step one of HDC, the project is not to just create a novelly piece of technology but to develop a tool that is shaped by and is for the people it serves.\n",
    "</p>"
   ]
  },
  {
   "cell_type": "markdown",
   "id": "21459529",
   "metadata": {},
   "source": [
    "<h2>User Flow Example</h2>\n",
    "\n",
    "<p><b>Scenario:</b> A young Shetlander wants to learn a phrase that their deceased grandparent used regularly.\n",
    "\n",
    "<b>User types:</b> “What does ‘an den dae made tae’ mean?”\n",
    "\n",
    "<b>Spikkbot responds:</b> “It means ‘and then they made tea’. It is an anecdotal term that is often used to finish a story, to poke fun at the number of times Shetlanders drink tea, which is before, during and after everything. Would you like to hear a pronunciation?”\n",
    "\n",
    "The user clicks ‘yes’, and the audio plays in authentic dialect voice. Spikkbot then offers to them practice the phrase. The user agrees, repeats the phrase out loud, and receives tailored feedback on their pronunciation.\n",
    "</p>\n"
   ]
  },
  {
   "cell_type": "markdown",
   "id": "2cf2da07",
   "metadata": {},
   "source": [
    "<h2>Human Role</h2>\n",
    "\n",
    "<p>Human involvement is key for the development of AI bots and is particularly critical for Spikkbot. The project is not just about encoding dialect but about combining human judgement and voice into the system. Taking from the HCD framework, the process emphasises:\n",
    "\n",
    "<ul>\n",
    "<li> Collaboration with diverse community members, as Shetland dialect can vary from place to place it is important to include varying fluency to inform the bot.</li>\n",
    "<li> Reflections on whether AI was the right solution for this issue. Other non-AI options could be considered, but a generative model offers an engaging and interactive use experience which aligns with goals of the project.</li>\n",
    "</ul>\n",
    "\n",
    "Throughout the development of the project, human oversight will be essential. The dataset is not only reviewed by humans for accuracy and tone but is also open to public feedback. Users can submit issues, suggested changes, or any challenges they faced while using the bot. This follows step five of HCD, which emphasises the importance of user agency in correcting or questioning AI systems.\n",
    "</p>"
   ]
  },
  {
   "cell_type": "markdown",
   "id": "cb2cd60e",
   "metadata": {},
   "source": [
    "<h2>AI Components</h2>"
   ]
  }
 ],
 "metadata": {
  "language_info": {
   "name": "python"
  }
 },
 "nbformat": 4,
 "nbformat_minor": 5
}
