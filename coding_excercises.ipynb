{
 "cells": [
  {
   "cell_type": "markdown",
   "metadata": {},
   "source": [
    "<h1>AI For the Arts and Humanities</h1>\n",
    "\n",
    "<p>\n",
    "This notebook is for learning basic programming concepts.\n",
    "</p>\n",
    "\n"
   ]
  },
  {
   "cell_type": "markdown",
   "metadata": {},
   "source": [
    "<h1>Hello, World!</h1>\n",
    "\n",
    "<p>\n",
    "The following code was created as my first attempt at programming in this course. It is meant to help me understand how to write and run code in GitHub Codespaces.\n",
    "</p>"
   ]
  },
  {
   "cell_type": "code",
   "execution_count": 13,
   "metadata": {},
   "outputs": [
    {
     "name": "stdout",
     "output_type": "stream",
     "text": [
      "Hello, World!\n"
     ]
    }
   ],
   "source": [
    "print(\"Hello, World!\")"
   ]
  },
  {
   "cell_type": "markdown",
   "metadata": {},
   "source": [
    "<h1>Printing</h1>\n",
    "\n",
    "<p><b>Prompt submitted to Copilot:</b>\n",
    "\"Could you suggest a python\n",
    "code for ‘Hello, world!’to demonstrate the concept of printing to a\n",
    "complete beginner in programming? Please explain the code step-by-step\n",
    "highlighting any key aspects\"\n",
    "</p>\n",
    "\n",
    "<p><b>Key Learning Outcomes</b></p>\n",
    "<ul>\n",
    "<li>To understand the steps taken in coding a simple phrase.</li>\n",
    "<li>The follow-on prompts show how AI can be used as an assistant to learn more, and figure out how mistakes can be solved.</li>\n",
    "</ul>"
   ]
  },
  {
   "cell_type": "code",
   "execution_count": 14,
   "metadata": {},
   "outputs": [
    {
     "name": "stdout",
     "output_type": "stream",
     "text": [
      "Hello, world!\n"
     ]
    }
   ],
   "source": [
    "print(\"Hello, world!\")\n"
   ]
  },
  {
   "cell_type": "markdown",
   "metadata": {},
   "source": [
    "<h2>Follow On Prompts</h2>\n",
    "\n",
    "<p><b>Prompt submitted to Copilot:</b> Can you explain indentation errors?</p>\n",
    "\n",
    "<p><b>Response:</b></p>\n",
    "\n",
    "<p>Common Casues of Indentation Errors</p>\n",
    "<ul>\n",
    "<li><b>Incosistent Indentation:</b> Mixing spaces and tabs can cause errors. It's best to use one consistently, preferably spaces.</li>\n",
    "<li><b>Incorrect Indentation Level:</b> Each block of code (like loops, functions, and conditionals) must be idented correctly.</li>\n",
    "<li><b>Missing Identation:</b> Forgetting to indent a block of code that requires it.</li>\n",
    "</ul>\n",
    "\n",
    "<p>How to Fix Indentation Errors</p>\n",
    "<ul>\n",
    "<li><b>Consistent Indentation:</b> Use 4 spaces per indetation level. Most IDEs and text editors can be configured to insert spaces when you press the Tab key.</li>\n",
    "<li><b>Check Indentation Levels:</b> Ensure all lines within the same block are indented equally.</li>\n",
    "<li><b>Use an IDE:</b> IDEs like PyCharm or VS Code highlight indentation errors, making them easier to spot and fix.</li>\n",
    "</ul>"
   ]
  },
  {
   "cell_type": "markdown",
   "metadata": {},
   "source": [
    "<h1>Understanding Variables</h1>\n",
    "\n",
    "<p><b>Prompt submitted to Copilot:</b> \"Could you suggest a modification of the Python code for \"Hello world!\" to demonstrate the concept of variables to a complete beginner in programming? Please explain the code step-by-step highlighting any key aspects.\"</p>\n",
    "\n",
    "<p><b>Prompts suggested by Copilot</b></p>\n",
    "<ul>\n",
    "<li>Can you explain more about functions?</li>\n",
    "</ul>\n",
    "\n",
    "<p><b>Key Learning Outcomes</b></p>\n",
    "<ul>\n",
    "<li>fjdfnd</li>\n",
    "<li>kdfjdkfj</li>\n",
    "</ul>\n",
    "\n",
    "<p><b>Example With Variables</b></p>"
   ]
  },
  {
   "cell_type": "markdown",
   "metadata": {},
   "source": [
    "<h1>Understanding Functions</h1>\n",
    "\n",
    "<p><b>Prompt Submitted to Copilot:</b> Could you suggest a modification of the Python code for \"Hello, world!\" to demonstrate the concept of functions for a complete beginner in programming? Please explain the code step-by-step highlighting any key aspects.\n",
    "</p>\n",
    "\n",
    "<h3>Reponse:</h3>\n",
    "\n",
    "<p>Step-by-step Explanation</p>\n",
    "<ul>\n",
    "\n",
    "<li><b>Comments:</b> \n",
    "Lines starting with a'hashtag' are comments. They are not executed by the program but are used to explain what code does.</li>\n",
    "\n",
    "<li><b>Function Definition:</b> def say_hello(): This line defines a function named say_hello. The def keyword is used to define a function, followed by the function name and parentheses (). The colon : indicates the start of the function body.</li>\n",
    "<li>A function is a block of code that performs a specific task. Functions help organise and make it reusable.</li>\n",
    "\n",
    "<li><b>Function Body:</b> The lines inside the function are indented to indicate that they belong to the function.</li>\n",
    "<li>greeting = \"Hello, World!\": Inside the function, we create a variable named greeting and assign the value \"Hello, world!\".</li>\n",
    "<li>print(greeting): We use the print function to display the value of the greeting variable.</li>\n",
    "\n",
    "<li><b>Function Call:</b> say_hello(): This line calls the function say_hello, which means it executes the code inside the function. When the function is called, it will print Hello, World! to the sceen.</li>\n",
    "</ul>\n",
    "<p><b>Prompts suggested by Copilot</b></p>\n",
    "<ul>\n",
    "<li>Can you show more examples of functions?</li>\n",
    "</ul>\n",
    "\n",
    "<p><b>Key Aspects:</b></p>\n",
    "\n",
    "<ul>\n",
    "<li><b>Functions:</b> Functions are fundamental in programming. They allow you to group code into reusable blocks. You can define a function once and call it multiple times throughout your program.</li>\n",
    "<li><b>Function Definition and Call:</b> The def keyword is used to define a function, and the function name followed by parentheses is used to call it.</li>\n",
    "<li><b>Indentation:</b> In Python, indentation is crucial. It indicated the block of code that belongs to a function or a loop. Proper indentation is necesary for the code to run correcly</li>\n",
    "</ul>\n",
    "\n",
    "<p><b>Example of functions:</b></p>"
   ]
  },
  {
   "cell_type": "markdown",
   "metadata": {},
   "source": [
    "<h1>Coding Excercises</h1>\n",
    "\n",
    "<p>This is a series of code that was given to me by Copilot, using the suggested prompts from the course lab book. They are presented in the following order:</p>\n",
    "\n",
    "<ol>\n",
    "<li>Variables</li>\n",
    "<li>Functions</li>\n",
    "<li>Loops</li>\n",
    "<li>Lists</li>\n",
    "<li>Dictionaries</li>\n",
    "<li>Data Structures</li>\n",
    "<li>Importing Libraries</li>\n",
    "<li>If, Elif, and Else Statements</li>\n",
    "<li>Operators</li>\n",
    "<li>Classes, Objects, and Methods</li>\n",
    "</ol>\n"
   ]
  },
  {
   "cell_type": "code",
   "execution_count": 15,
   "metadata": {},
   "outputs": [
    {
     "name": "stdout",
     "output_type": "stream",
     "text": [
      "Hello, world!\n"
     ]
    }
   ],
   "source": [
    "# This is a comment explaining the code\n",
    "# We are creating a variable named 'greeting' and assigning it the value \"Hello, world!\"\n",
    "greeting = \"Hello, world!\"\n",
    "\n",
    "# Now we use the print function to display the value of the 'greeting' variable\n",
    "print(greeting)"
   ]
  },
  {
   "cell_type": "code",
   "execution_count": 16,
   "metadata": {},
   "outputs": [
    {
     "name": "stdout",
     "output_type": "stream",
     "text": [
      "Hello, world!\n"
     ]
    }
   ],
   "source": [
    "# This is a comment explaining the code\n",
    "# We are defining a function named 'say_hello'\n",
    "def say_hello():\n",
    "    # Inside the function, we create a variable named 'greeting' and assign it the value \"Hello, world!\"\n",
    "    greeting = \"Hello, world!\"\n",
    "    # We use the print function to display the value of the 'greeting' variable\n",
    "    print(greeting)\n",
    "\n",
    "# Now we call the function 'say_hello' to execute the code inside it\n",
    "say_hello()"
   ]
  },
  {
   "cell_type": "code",
   "execution_count": 17,
   "metadata": {},
   "outputs": [
    {
     "name": "stdout",
     "output_type": "stream",
     "text": [
      "Hello, world!\n",
      "Hello, world!\n",
      "Hello, world!\n",
      "Hello, world!\n",
      "Hello, world!\n"
     ]
    }
   ],
   "source": [
    " # This is a comment explaining the code\n",
    "# We are using a for loop to repeat the print statement 5 times\n",
    "for i in range(5):\n",
    "    # Inside the loop, we create a variable named 'greeting' and assign it the value \"Hello, world!\"\n",
    "    greeting = \"Hello, world!\"\n",
    "    # We use the print function to display the value of the 'greeting' variable\n",
    "    print(greeting)\n"
   ]
  },
  {
   "cell_type": "code",
   "execution_count": 18,
   "metadata": {},
   "outputs": [
    {
     "name": "stdout",
     "output_type": "stream",
     "text": [
      "Hello, world!\n",
      "Hi there!\n",
      "Greetings!\n",
      "Welcome!\n",
      "Hey!\n"
     ]
    }
   ],
   "source": [
    "# This is a comment explaining the code\n",
    "# We are creating a list named 'greetings' with multiple greeting messages\n",
    "greetings = [\"Hello, world!\", \"Hi there!\", \"Greetings!\", \"Welcome!\", \"Hey!\"]\n",
    "# We use a for loop to iterate over each item in the 'greetings' list\n",
    "for greeting in greetings:\n",
    "    # We use the print function to display each greeting message\n",
    "    print(greeting)\n"
   ]
  },
  {
   "cell_type": "code",
   "execution_count": 19,
   "metadata": {},
   "outputs": [
    {
     "name": "stdout",
     "output_type": "stream",
     "text": [
      "In English, we say: Hello, world!\n",
      "In Spanish, we say: ¡Hola, mundo!\n",
      "In French, we say: Bonjour, le monde!\n",
      "In German, we say: Hallo, Welt!\n",
      "In Japanese, we say: こんにちは、世界！\n"
     ]
    }
   ],
   "source": [
    "# This is a comment explaining the code\n",
    "# We are creating a dictionary named 'greetings' with different languages as keys and their greeting messages as values\n",
    "greetings = {\n",
    "    \"English\": \"Hello, world!\",\n",
    "    \"Spanish\": \"¡Hola, mundo!\",\n",
    "    \"French\": \"Bonjour, le monde!\",\n",
    "    \"German\": \"Hallo, Welt!\",\n",
    "    \"Japanese\": \"こんにちは、世界！\"\n",
    "}\n",
    "# We use a for loop to iterate over each key-value pair in the 'greetings' dictionary\n",
    "for language, greeting in greetings.items():\n",
    "    # We use the print function to display the language and its corresponding greeting message\n",
    "    print(f\"In {language}, we say: {greeting}\")\n"
   ]
  },
  {
   "cell_type": "code",
   "execution_count": 20,
   "metadata": {},
   "outputs": [
    {
     "name": "stdout",
     "output_type": "stream",
     "text": [
      "Hello, world!\n",
      "Hi there!\n",
      "Greetings!\n",
      "Welcome!\n",
      "Hey!\n"
     ]
    }
   ],
   "source": [
    "# This is a comment explaining the code\n",
    "# We are creating a list (array) named 'greetings' with multiple greeting messages\n",
    "greetings = [\"Hello, world!\", \"Hi there!\", \"Greetings!\", \"Welcome!\", \"Hey!\"]\n",
    "# We use a for loop to iterate over each item in the 'greetings' list\n",
    "for greeting in greetings:\n",
    "    # We use the print function to display each greeting message\n",
    "    print(greeting)\n"
   ]
  },
  {
   "cell_type": "code",
   "execution_count": 21,
   "metadata": {},
   "outputs": [
    {
     "name": "stdout",
     "output_type": "stream",
     "text": [
      "Hello, world!\n",
      "Current date and time: 2025-04-15 12:24:37.921815\n"
     ]
    }
   ],
   "source": [
    "# This is a comment explaining the code\n",
    "# We are importing the 'datetime' library to work with dates and times\n",
    "import datetime\n",
    "# We create a variable named 'greeting' and assign it the value \"Hello, world!\"\n",
    "greeting = \"Hello, world!\"\n",
    "# We use the 'datetime' library to get the current date and time\n",
    "current_time = datetime.datetime.now()\n",
    "# We use the print function to display the greeting message and the current date and time\n",
    "print(greeting)\n",
    "print(\"Current date and time:\", current_time)\n"
   ]
  },
  {
   "cell_type": "code",
   "execution_count": 22,
   "metadata": {},
   "outputs": [
    {
     "name": "stdout",
     "output_type": "stream",
     "text": [
      "¡Hola, mundo!\n"
     ]
    }
   ],
   "source": [
    "# This is a comment explaining the code\n",
    "# We are creating a variable named 'language' and assigning it the value \"Spanish\"\n",
    "language = \"Spanish\"\n",
    "# We use if, elif, and else statements to print different greetings based on the value of 'language'\n",
    "if language == \"English\":\n",
    "    greeting = \"Hello, world!\"\n",
    "elif language == \"Spanish\":\n",
    "    greeting = \"¡Hola, mundo!\"\n",
    "elif language == \"French\":\n",
    "    greeting = \"Bonjour, le monde!\"\n",
    "else:\n",
    "    greeting = \"Hello, world!\"  # Default greeting if none of the conditions are met\n",
    "# We use the print function to display the greeting message\n",
    "print(greeting)\n"
   ]
  },
  {
   "cell_type": "code",
   "execution_count": 23,
   "metadata": {},
   "outputs": [
    {
     "name": "stdout",
     "output_type": "stream",
     "text": [
      "Hello, world! My name is Python.\n",
      "Hello, world!Hello, world!Hello, world!\n",
      "Sum: 15\n",
      "Product: 10\n"
     ]
    }
   ],
   "source": [
    "# This is a comment explaining the code\n",
    "# We are creating a variable named 'greeting' and assigning it the value \"Hello, world!\"\n",
    "greeting = \"Hello, world!\"\n",
    "# We use the addition operator to concatenate strings\n",
    "greeting_with_name = greeting + \" My name is Python.\"\n",
    "# We use the multiplication operator to repeat the string\n",
    "repeated_greeting = greeting * 3\n",
    "# We create a variable named 'number' and assign it the value 5\n",
    "number = 5\n",
    "# We use the addition operator to add numbers\n",
    "sum_result = number + 10\n",
    "# We use the multiplication operator to multiply numbers\n",
    "product_result = number * 2\n",
    "# We use the print function to display the results\n",
    "print(greeting_with_name)\n",
    "print(repeated_greeting)\n",
    "print(\"Sum:\", sum_result)\n",
    "print(\"Product:\", product_result)\n"
   ]
  },
  {
   "cell_type": "code",
   "execution_count": 24,
   "metadata": {},
   "outputs": [
    {
     "name": "stdout",
     "output_type": "stream",
     "text": [
      "Hello, world!\n"
     ]
    }
   ],
   "source": [
    "# This is a comment explaining the code\n",
    "# We are defining a class named 'Greeter'\n",
    "class Greeter:\n",
    "    # This is the initializer method, also known as the constructor\n",
    "    def __init__(self, name):\n",
    "        # We create an instance variable 'name' and assign it the value passed to the constructor\n",
    "        self.name = name\n",
    "    # This is a method named 'say_hello'\n",
    "    def say_hello(self):\n",
    "        # We create a greeting message using the instance variable 'name'\n",
    "        greeting = f\"Hello, {self.name}!\"\n",
    "        # We use the print function to display the greeting message\n",
    "        print(greeting)\n",
    "# We create an object of the 'Greeter' class and pass the name \"world\" to the constructor\n",
    "greeter = Greeter(\"world\")\n",
    "# We call the 'say_hello' method on the 'greeter' object\n",
    "greeter.say_hello()\n"
   ]
  },
  {
   "cell_type": "markdown",
   "metadata": {},
   "source": [
    "<h1>Follow on Prompts</h1>\n",
    "\n",
    "<p>The following are prompts that were either suggested to me by Copilot, or ones I used to interrogate Copilot.</p>\n",
    "\n",
    "<p><b>Prompt:</b> Can you explain while loops too?</p>"
   ]
  },
  {
   "cell_type": "code",
   "execution_count": 25,
   "metadata": {},
   "outputs": [
    {
     "name": "stdout",
     "output_type": "stream",
     "text": [
      "Hello, world!\n",
      "Hello, world!\n",
      "Hello, world!\n",
      "Hello, world!\n",
      "Hello, world!\n"
     ]
    }
   ],
   "source": [
    "# This is a comment explaining the code\n",
    "# We are using a while loop to repeat the print statement 5 times\n",
    "count = 0  # Initialize a variable 'count' to 0\n",
    "# The while loop will run as long as 'count' is less than 5\n",
    "while count < 5:\n",
    "    # Inside the loop, we create a variable named 'greeting' and assign it the value \"Hello, world!\"\n",
    "    greeting = \"Hello, world!\"\n",
    "    # We use the print function to display the value of the 'greeting' variable\n",
    "    print(greeting)\n",
    "    # Increment the 'count' variable by 1\n",
    "    count += 1\n"
   ]
  },
  {
   "cell_type": "markdown",
   "metadata": {},
   "source": [
    "<p><b>Prompt:</b> "
   ]
  }
 ],
 "metadata": {
  "kernelspec": {
   "display_name": "Python 3",
   "language": "python",
   "name": "python3"
  },
  "language_info": {
   "codemirror_mode": {
    "name": "ipython",
    "version": 3
   },
   "file_extension": ".py",
   "mimetype": "text/x-python",
   "name": "python",
   "nbconvert_exporter": "python",
   "pygments_lexer": "ipython3",
   "version": "3.12.1"
  }
 },
 "nbformat": 4,
 "nbformat_minor": 2
}
