{
 "cells": [
  {
   "cell_type": "markdown",
   "metadata": {},
   "source": [
    "<h1>AI For the Arts and Humanities</h1>\n",
    "\n",
    "<p>\n",
    "This notebook is for learning basic programming concepts.\n",
    "</p>\n",
    "\n"
   ]
  },
  {
   "cell_type": "markdown",
   "metadata": {},
   "source": [
    "<h1>Hello, World!</h1>\n",
    "\n",
    "<p>\n",
    "The following code was created as my first attempt at programming in this course. It is meant to help me understand how to write and run code in GitHub Codespaces.\n",
    "</p>"
   ]
  },
  {
   "cell_type": "code",
   "execution_count": 19,
   "metadata": {},
   "outputs": [
    {
     "name": "stdout",
     "output_type": "stream",
     "text": [
      "Hello, World!\n"
     ]
    }
   ],
   "source": [
    "print(\"Hello, World!\")"
   ]
  },
  {
   "cell_type": "markdown",
   "metadata": {},
   "source": [
    "<h1>Printing</h1>\n",
    "\n",
    "<p><b>Prompt submitted to Copilot:</b>\n",
    "\"Could you suggest a python\n",
    "code for ‘Hello, world!’to demonstrate the concept of printing to a\n",
    "complete beginner in programming? Please explain the code step-by-step\n",
    "highlighting any key aspects\"\n",
    "</p>\n",
    "\n",
    "<p><b>Key Learning Outcomes</b></p>\n",
    "<ul>\n",
    "<li>To understand the steps taken in coding a simple phrase.</li>\n",
    "<li>The follow-on prompts show how AI can be used as an assistant to learn more, and figure out how mistakes can be solved.</li>\n",
    "</ul>"
   ]
  },
  {
   "cell_type": "code",
   "execution_count": 20,
   "metadata": {},
   "outputs": [
    {
     "name": "stdout",
     "output_type": "stream",
     "text": [
      "Hello, world!\n"
     ]
    }
   ],
   "source": [
    "print(\"Hello, world!\")\n"
   ]
  },
  {
   "cell_type": "markdown",
   "metadata": {},
   "source": [
    "<h2>Follow On Prompts</h2>\n",
    "\n",
    "<p><b>Prompt submitted to Copilot:</b> Can you explain indentation errors?</p>\n",
    "\n",
    "<p><b>Response:</b></p>\n",
    "\n",
    "<p>Common Casues of Indentation Errors</p>\n",
    "<ul>\n",
    "<li><b>Incosistent Indentation:</b> Mixing spaces and tabs can cause errors. It's best to use one consistently, preferably spaces.</li>\n",
    "<li><b>Incorrect Indentation Level:</b> Each block of code (like loops, functions, and conditionals) must be idented correctly.</li>\n",
    "<li><b>Missing Identation:</b> Forgetting to indent a block of code that requires it.</li>\n",
    "</ul>\n",
    "\n",
    "<p>How to Fix Indentation Errors</p>\n",
    "<ul>\n",
    "<li><b>Consistent Indentation:</b> Use 4 spaces per indetation level. Most IDEs and text editors can be configured to insert spaces when you press the Tab key.</li>\n",
    "<li><b>Check Indentation Levels:</b> Ensure all lines within the same block are indented equally.</li>\n",
    "<li><b>Use an IDE:</b> IDEs like PyCharm or VS Code highlight indentation errors, making them easier to spot and fix.</li>\n",
    "</ul>"
   ]
  },
  {
   "cell_type": "markdown",
   "metadata": {},
   "source": [
    "<h1>Understanding Variables</h1>\n",
    "\n",
    "<p><b>Prompt submitted to Copilot:</b> \"Could you suggest a modification of the Python code for \"Hello world!\" to demonstrate the concept of variables to a complete beginner in programming? Please explain the code step-by-step highlighting any key aspects.\"</p>\n",
    "\n",
    "<p><b>Prompts suggested by Copilot</b></p>\n",
    "<ul>\n",
    "<li>Can you explain more about functions?</li>\n",
    "</ul>\n",
    "\n",
    "<p><b>Key Learning Outcomes</b></p>\n",
    "<ul>\n",
    "<li>fjdfnd</li>\n",
    "<li>kdfjdkfj</li>\n",
    "</ul>\n",
    "\n",
    "<p><b>Example With Variables</b></p>"
   ]
  },
  {
   "cell_type": "markdown",
   "metadata": {},
   "source": [
    "<h1>Understanding Functions</h1>\n",
    "\n",
    "<p><b>Prompt Submitted to Copilot:</b> Could you suggest a modification of the Python code for \"Hello, world!\" to demonstrate the concept of functions for a complete beginner in programming? Please explain the code step-by-step highlighting any key aspects.\n",
    "</p>\n",
    "\n",
    "<h3>Reponse:</h3>\n",
    "\n",
    "<p>Step-by-step Explanation</p>\n",
    "<ul>\n",
    "\n",
    "<li><b>Comments:</b> \n",
    "Lines starting with a'hashtag' are comments. They are not executed by the program but are used to explain what code does.</li>\n",
    "\n",
    "<li><b>Function Definition:</b> def say_hello(): This line defines a function named say_hello. The def keyword is used to define a function, followed by the function name and parentheses (). The colon : indicates the start of the function body.</li>\n",
    "<li>A function is a block of code that performs a specific task. Functions help organise and make it reusable.</li>\n",
    "\n",
    "<li><b>Function Body:</b> The lines inside the function are indented to indicate that they belong to the function.</li>\n",
    "<li>greeting = \"Hello, World!\": Inside the function, we create a variable named greeting and assign the value \"Hello, world!\".</li>\n",
    "<li>print(greeting): We use the print function to display the value of the greeting variable.</li>\n",
    "\n",
    "<li><b>Function Call:</b> say_hello(): This line calls the function say_hello, which means it executes the code inside the function. When the function is called, it will print Hello, World! to the sceen.</li>\n",
    "</ul>\n",
    "<p><b>Prompts suggested by Copilot</b></p>\n",
    "<ul>\n",
    "<li>Can you show more examples of functions?</li>\n",
    "</ul>\n",
    "\n",
    "<p><b>Key Aspects:</b></p>\n",
    "\n",
    "<ul>\n",
    "<li><b>Functions:</b> Functions are fundamental in programming. They allow you to group code into reusable blocks. You can define a function once and call it multiple times throughout your program.</li>\n",
    "<li><b>Function Definition and Call:</b> The def keyword is used to define a function, and the function name followed by parentheses is used to call it.</li>\n",
    "<li><b>Indentation:</b> In Python, indentation is crucial. It indicated the block of code that belongs to a function or a loop. Proper indentation is necesary for the code to run correcly</li>\n",
    "</ul>\n",
    "\n",
    "<p><b>Example of functions:</b></p>"
   ]
  },
  {
   "cell_type": "markdown",
   "metadata": {},
   "source": [
    "<h1>Coding Excercises</h1>\n",
    "\n",
    "<p>This is a series of code that was given to me by Copilot, using the suggested prompts from the course lab book. They are presented in the following order:</p>\n",
    "\n",
    "<ol>\n",
    "<li>Variables</li>\n",
    "<li>Functions</li>\n",
    "<li>Loops</li>\n",
    "<li>Lists</li>\n",
    "<li>Dictionaries</li>\n",
    "<li>Data Structures</li>\n",
    "<li>Importing Libraries</li>\n",
    "<li>If, Elif, and Else Statements</li>\n",
    "<li>Operators</li>\n",
    "<li>Classes, Objects, and Methods</li>\n",
    "</ol>\n"
   ]
  },
  {
   "cell_type": "code",
   "execution_count": 21,
   "metadata": {},
   "outputs": [
    {
     "name": "stdout",
     "output_type": "stream",
     "text": [
      "Hello, world!\n"
     ]
    }
   ],
   "source": [
    "# This is a comment explaining the code\n",
    "# We are creating a variable named 'greeting' and assigning it the value \"Hello, world!\"\n",
    "greeting = \"Hello, world!\"\n",
    "\n",
    "# Now we use the print function to display the value of the 'greeting' variable\n",
    "print(greeting)"
   ]
  },
  {
   "cell_type": "code",
   "execution_count": 22,
   "metadata": {},
   "outputs": [
    {
     "name": "stdout",
     "output_type": "stream",
     "text": [
      "Hello, world!\n"
     ]
    }
   ],
   "source": [
    "# This is a comment explaining the code\n",
    "# We are defining a function named 'say_hello'\n",
    "def say_hello():\n",
    "    # Inside the function, we create a variable named 'greeting' and assign it the value \"Hello, world!\"\n",
    "    greeting = \"Hello, world!\"\n",
    "    # We use the print function to display the value of the 'greeting' variable\n",
    "    print(greeting)\n",
    "\n",
    "# Now we call the function 'say_hello' to execute the code inside it\n",
    "say_hello()"
   ]
  },
  {
   "cell_type": "code",
   "execution_count": 23,
   "metadata": {},
   "outputs": [
    {
     "name": "stdout",
     "output_type": "stream",
     "text": [
      "Hello, world!\n",
      "Hello, world!\n",
      "Hello, world!\n",
      "Hello, world!\n",
      "Hello, world!\n"
     ]
    }
   ],
   "source": [
    " # This is a comment explaining the code\n",
    "# We are using a for loop to repeat the print statement 5 times\n",
    "for i in range(5):\n",
    "    # Inside the loop, we create a variable named 'greeting' and assign it the value \"Hello, world!\"\n",
    "    greeting = \"Hello, world!\"\n",
    "    # We use the print function to display the value of the 'greeting' variable\n",
    "    print(greeting)\n"
   ]
  },
  {
   "cell_type": "code",
   "execution_count": 24,
   "metadata": {},
   "outputs": [
    {
     "name": "stdout",
     "output_type": "stream",
     "text": [
      "Hello, world!\n",
      "Hi there!\n",
      "Greetings!\n",
      "Welcome!\n",
      "Hey!\n"
     ]
    }
   ],
   "source": [
    "# This is a comment explaining the code\n",
    "# We are creating a list named 'greetings' with multiple greeting messages\n",
    "greetings = [\"Hello, world!\", \"Hi there!\", \"Greetings!\", \"Welcome!\", \"Hey!\"]\n",
    "# We use a for loop to iterate over each item in the 'greetings' list\n",
    "for greeting in greetings:\n",
    "    # We use the print function to display each greeting message\n",
    "    print(greeting)\n"
   ]
  },
  {
   "cell_type": "code",
   "execution_count": 25,
   "metadata": {},
   "outputs": [
    {
     "name": "stdout",
     "output_type": "stream",
     "text": [
      "In English, we say: Hello, world!\n",
      "In Spanish, we say: ¡Hola, mundo!\n",
      "In French, we say: Bonjour, le monde!\n",
      "In German, we say: Hallo, Welt!\n",
      "In Japanese, we say: こんにちは、世界！\n"
     ]
    }
   ],
   "source": [
    "# This is a comment explaining the code\n",
    "# We are creating a dictionary named 'greetings' with different languages as keys and their greeting messages as values\n",
    "greetings = {\n",
    "    \"English\": \"Hello, world!\",\n",
    "    \"Spanish\": \"¡Hola, mundo!\",\n",
    "    \"French\": \"Bonjour, le monde!\",\n",
    "    \"German\": \"Hallo, Welt!\",\n",
    "    \"Japanese\": \"こんにちは、世界！\"\n",
    "}\n",
    "# We use a for loop to iterate over each key-value pair in the 'greetings' dictionary\n",
    "for language, greeting in greetings.items():\n",
    "    # We use the print function to display the language and its corresponding greeting message\n",
    "    print(f\"In {language}, we say: {greeting}\")\n"
   ]
  },
  {
   "cell_type": "code",
   "execution_count": 26,
   "metadata": {},
   "outputs": [
    {
     "name": "stdout",
     "output_type": "stream",
     "text": [
      "Hello, world!\n",
      "Hi there!\n",
      "Greetings!\n",
      "Welcome!\n",
      "Hey!\n"
     ]
    }
   ],
   "source": [
    "# This is a comment explaining the code\n",
    "# We are creating a list (array) named 'greetings' with multiple greeting messages\n",
    "greetings = [\"Hello, world!\", \"Hi there!\", \"Greetings!\", \"Welcome!\", \"Hey!\"]\n",
    "# We use a for loop to iterate over each item in the 'greetings' list\n",
    "for greeting in greetings:\n",
    "    # We use the print function to display each greeting message\n",
    "    print(greeting)\n"
   ]
  },
  {
   "cell_type": "code",
   "execution_count": 27,
   "metadata": {},
   "outputs": [
    {
     "name": "stdout",
     "output_type": "stream",
     "text": [
      "Hello, world!\n",
      "Current date and time: 2025-04-15 19:18:02.252217\n"
     ]
    }
   ],
   "source": [
    "# This is a comment explaining the code\n",
    "# We are importing the 'datetime' library to work with dates and times\n",
    "import datetime\n",
    "# We create a variable named 'greeting' and assign it the value \"Hello, world!\"\n",
    "greeting = \"Hello, world!\"\n",
    "# We use the 'datetime' library to get the current date and time\n",
    "current_time = datetime.datetime.now()\n",
    "# We use the print function to display the greeting message and the current date and time\n",
    "print(greeting)\n",
    "print(\"Current date and time:\", current_time)\n"
   ]
  },
  {
   "cell_type": "code",
   "execution_count": 28,
   "metadata": {},
   "outputs": [
    {
     "name": "stdout",
     "output_type": "stream",
     "text": [
      "¡Hola, mundo!\n"
     ]
    }
   ],
   "source": [
    "# This is a comment explaining the code\n",
    "# We are creating a variable named 'language' and assigning it the value \"Spanish\"\n",
    "language = \"Spanish\"\n",
    "# We use if, elif, and else statements to print different greetings based on the value of 'language'\n",
    "if language == \"English\":\n",
    "    greeting = \"Hello, world!\"\n",
    "elif language == \"Spanish\":\n",
    "    greeting = \"¡Hola, mundo!\"\n",
    "elif language == \"French\":\n",
    "    greeting = \"Bonjour, le monde!\"\n",
    "else:\n",
    "    greeting = \"Hello, world!\"  # Default greeting if none of the conditions are met\n",
    "# We use the print function to display the greeting message\n",
    "print(greeting)\n"
   ]
  },
  {
   "cell_type": "code",
   "execution_count": 29,
   "metadata": {},
   "outputs": [
    {
     "name": "stdout",
     "output_type": "stream",
     "text": [
      "Hello, world! My name is Python.\n",
      "Hello, world!Hello, world!Hello, world!\n",
      "Sum: 15\n",
      "Product: 10\n"
     ]
    }
   ],
   "source": [
    "# This is a comment explaining the code\n",
    "# We are creating a variable named 'greeting' and assigning it the value \"Hello, world!\"\n",
    "greeting = \"Hello, world!\"\n",
    "# We use the addition operator to concatenate strings\n",
    "greeting_with_name = greeting + \" My name is Python.\"\n",
    "# We use the multiplication operator to repeat the string\n",
    "repeated_greeting = greeting * 3\n",
    "# We create a variable named 'number' and assign it the value 5\n",
    "number = 5\n",
    "# We use the addition operator to add numbers\n",
    "sum_result = number + 10\n",
    "# We use the multiplication operator to multiply numbers\n",
    "product_result = number * 2\n",
    "# We use the print function to display the results\n",
    "print(greeting_with_name)\n",
    "print(repeated_greeting)\n",
    "print(\"Sum:\", sum_result)\n",
    "print(\"Product:\", product_result)\n"
   ]
  },
  {
   "cell_type": "code",
   "execution_count": 30,
   "metadata": {},
   "outputs": [
    {
     "name": "stdout",
     "output_type": "stream",
     "text": [
      "Hello, world!\n"
     ]
    }
   ],
   "source": [
    "# This is a comment explaining the code\n",
    "# We are defining a class named 'Greeter'\n",
    "class Greeter:\n",
    "    # This is the initializer method, also known as the constructor\n",
    "    def __init__(self, name):\n",
    "        # We create an instance variable 'name' and assign it the value passed to the constructor\n",
    "        self.name = name\n",
    "    # This is a method named 'say_hello'\n",
    "    def say_hello(self):\n",
    "        # We create a greeting message using the instance variable 'name'\n",
    "        greeting = f\"Hello, {self.name}!\"\n",
    "        # We use the print function to display the greeting message\n",
    "        print(greeting)\n",
    "# We create an object of the 'Greeter' class and pass the name \"world\" to the constructor\n",
    "greeter = Greeter(\"world\")\n",
    "# We call the 'say_hello' method on the 'greeter' object\n",
    "greeter.say_hello()\n"
   ]
  },
  {
   "cell_type": "markdown",
   "metadata": {},
   "source": [
    "<h1>Follow on Prompts</h1>\n",
    "\n",
    "<p>The following are prompts that were either suggested to me by Copilot, or ones I used to interrogate Copilot.</p>\n",
    "\n",
    "<p><b>Prompt:</b> Can you explain while loops too?</p>"
   ]
  },
  {
   "cell_type": "code",
   "execution_count": 31,
   "metadata": {},
   "outputs": [
    {
     "name": "stdout",
     "output_type": "stream",
     "text": [
      "Hello, world!\n",
      "Hello, world!\n",
      "Hello, world!\n",
      "Hello, world!\n",
      "Hello, world!\n"
     ]
    }
   ],
   "source": [
    "# This is a comment explaining the code\n",
    "# We are using a while loop to repeat the print statement 5 times\n",
    "count = 0  # Initialize a variable 'count' to 0\n",
    "# The while loop will run as long as 'count' is less than 5\n",
    "while count < 5:\n",
    "    # Inside the loop, we create a variable named 'greeting' and assign it the value \"Hello, world!\"\n",
    "    greeting = \"Hello, world!\"\n",
    "    # We use the print function to display the value of the 'greeting' variable\n",
    "    print(greeting)\n",
    "    # Increment the 'count' variable by 1\n",
    "    count += 1\n"
   ]
  },
  {
   "cell_type": "markdown",
   "metadata": {},
   "source": [
    "<p><b>Prompt:</b> "
   ]
  },
  {
   "cell_type": "markdown",
   "metadata": {},
   "source": [
    "<h1>Learning Outcomes and Experience Reflection</h1>\n",
    "\n",
    "<p>Using AI for this was relatively straightforward and was extremely helpful in assisting my learning of Python, as someone who is a beginner. Using the phrase ‘explain step-by-step’, really laid out what I needed to do. It helped me understand the ways I can utilise AI in the future to help with coding. As I am graduating this year but am still interested in learning a bit more about Python, I know how to ask AI to help with specific tasks, why something is not working, and how to fix errors. As it provides a new code along with an explanation of what went wrong, it is helpful in not just fixing the issue but also contributing to my wider learning.</p>\n",
    "\n",
    "<h3>Learning Outcomes</h3>\n",
    "\n",
    "<ul>\n",
    "<li> I now have a basic understanding of using Github Codespaces, including formatting and creating my codespace and the basic 'rules' surrounding it.</li>\n",
    "<li> I understand how to utilise AI as an assistant in my learning, and the ways it can help with coding. For example, getting it to explain things in ‘beginner’ style language, without any technical jargon that typical online resources may have.</li>\n",
    "<li> I refreshed my memory of HTML coding language.</li>\n",
    "</ul>"
   ]
  },
  {
   "cell_type": "markdown",
   "metadata": {},
   "source": [
    "<h1>Installing Python Libraries</h1>"
   ]
  },
  {
   "cell_type": "code",
   "execution_count": 32,
   "metadata": {},
   "outputs": [
    {
     "data": {
      "image/jpeg": "[encoded data removed]",
      "text/html": [
       "\n",
       "        <iframe\n",
       "            width=\"400\"\n",
       "            height=\"300\"\n",
       "            src=\"https://www.youtube.com/embed/BHY0FxzoKZE\"\n",
       "            frameborder=\"0\"\n",
       "            allowfullscreen\n",
       "            \n",
       "        ></iframe>\n",
       "        "
      ],
      "text/plain": [
       "<IPython.lib.display.YouTubeVideo at 0x75e829a7fd10>"
      ]
     },
     "execution_count": 32,
     "metadata": {},
     "output_type": "execute_result"
    }
   ],
   "source": [
    "from IPython.display import *\n",
    "\n",
    "YouTubeVideo(\"BHY0FxzoKZE\")\n",
    "\n",
    "\n"
   ]
  },
  {
   "cell_type": "markdown",
   "metadata": {},
   "source": [
    "<h1>Sklearn Excercises</h1>\n",
    "\n",
    "<p>The following is my experience using the suggested topics/prompts for Copilot, along with suggested code it provided me and what I learnt from it.</p>"
   ]
  },
  {
   "cell_type": "markdown",
   "metadata": {},
   "source": [
    "<h3>Working with Data Sets</h3>\n",
    "\n",
    "<p>From the workbook, it was suggested to ask Copilot for explanations for the following:</p>\n",
    "<ul>\n",
    "\n",
    "<li>Loading Datasets</li>\n",
    "<li> Dataset Structure</li>\n",
    "<li>Exploring the Data</li>\n",
    "<li>Visualising the Data</li>\n",
    "</ul>"
   ]
  },
  {
   "cell_type": "code",
   "execution_count": 33,
   "metadata": {},
   "outputs": [],
   "source": [
    "from sklearn.datasets import load_iris\n",
    "# Load the Iris dataset\n",
    "iris = load_iris()\n"
   ]
  },
  {
   "cell_type": "code",
   "execution_count": 34,
   "metadata": {},
   "outputs": [
    {
     "name": "stdout",
     "output_type": "stream",
     "text": [
      "dict_keys(['data', 'target', 'frame', 'target_names', 'DESCR', 'feature_names', 'filename', 'data_module'])\n",
      ".. _iris_dataset:\n",
      "\n",
      "Iris plants dataset\n",
      "--------------------\n",
      "\n",
      "**Data Set Characteristics:**\n",
      "\n",
      ":Number of Instances: 150 (50 in each of three classes)\n",
      ":Number of Attributes: 4 numeric, predictive attributes and the class\n",
      ":Attribute Information:\n",
      "    - sepal length in cm\n",
      "    - sepal width in cm\n",
      "    - petal length in cm\n",
      "    - petal width in cm\n",
      "    - class:\n",
      "            - Iris-Setosa\n",
      "            - Iris-Versicolour\n",
      "            - Iris-Virginica\n",
      "\n",
      ":Summary Statistics:\n",
      "\n",
      "============== ==== ==== ======= ===== ====================\n",
      "                Min  Max   Mean    SD   Class Correlation\n",
      "============== ==== ==== ======= ===== ====================\n",
      "sepal length:   4.3  7.9   5.84   0.83    0.7826\n",
      "sepal width:    2.0  4.4   3.05   0.43   -0.4194\n",
      "petal length:   1.0  6.9   3.76   1.76    0.9490  (high!)\n",
      "petal width:    0.1  2.5   1.20   0.76    0.9565  (high!)\n",
      "============== ==== ==== ======= ===== ====================\n",
      "\n",
      ":Missing Attribute Values: None\n",
      ":Class Distribution: 33.3% for each of 3 classes.\n",
      ":Creator: R.A. Fisher\n",
      ":Donor: Michael Marshall (MARSHALL%PLU@io.arc.nasa.gov)\n",
      ":Date: July, 1988\n",
      "\n",
      "The famous Iris database, first used by Sir R.A. Fisher. The dataset is taken\n",
      "from Fisher's paper. Note that it's the same as in R, but not as in the UCI\n",
      "Machine Learning Repository, which has two wrong data points.\n",
      "\n",
      "This is perhaps the best known database to be found in the\n",
      "pattern recognition literature.  Fisher's paper is a classic in the field and\n",
      "is referenced frequently to this day.  (See Duda & Hart, for example.)  The\n",
      "data set contains 3 classes of 50 instances each, where each class refers to a\n",
      "type of iris plant.  One class is linearly separable from the other 2; the\n",
      "latter are NOT linearly separable from each other.\n",
      "\n",
      ".. dropdown:: References\n",
      "\n",
      "  - Fisher, R.A. \"The use of multiple measurements in taxonomic problems\"\n",
      "    Annual Eugenics, 7, Part II, 179-188 (1936); also in \"Contributions to\n",
      "    Mathematical Statistics\" (John Wiley, NY, 1950).\n",
      "  - Duda, R.O., & Hart, P.E. (1973) Pattern Classification and Scene Analysis.\n",
      "    (Q327.D83) John Wiley & Sons.  ISBN 0-471-22361-1.  See page 218.\n",
      "  - Dasarathy, B.V. (1980) \"Nosing Around the Neighborhood: A New System\n",
      "    Structure and Classification Rule for Recognition in Partially Exposed\n",
      "    Environments\".  IEEE Transactions on Pattern Analysis and Machine\n",
      "    Intelligence, Vol. PAMI-2, No. 1, 67-71.\n",
      "  - Gates, G.W. (1972) \"The Reduced Nearest Neighbor Rule\".  IEEE Transactions\n",
      "    on Information Theory, May 1972, 431-433.\n",
      "  - See also: 1988 MLC Proceedings, 54-64.  Cheeseman et al\"s AUTOCLASS II\n",
      "    conceptual clustering system finds 3 classes in the data.\n",
      "  - Many, many more ...\n",
      "\n"
     ]
    }
   ],
   "source": [
    "# Print the keys of the dataset\n",
    "print(iris.keys())\n",
    "# Print the description of the dataset\n",
    "print(iris['DESCR'])\n"
   ]
  },
  {
   "cell_type": "code",
   "execution_count": 35,
   "metadata": {},
   "outputs": [
    {
     "name": "stdout",
     "output_type": "stream",
     "text": [
      "   sepal length (cm)  sepal width (cm)  petal length (cm)  petal width (cm)  \\\n",
      "0                5.1               3.5                1.4               0.2   \n",
      "1                4.9               3.0                1.4               0.2   \n",
      "2                4.7               3.2                1.3               0.2   \n",
      "3                4.6               3.1                1.5               0.2   \n",
      "4                5.0               3.6                1.4               0.2   \n",
      "\n",
      "   target  \n",
      "0       0  \n",
      "1       0  \n",
      "2       0  \n",
      "3       0  \n",
      "4       0  \n"
     ]
    }
   ],
   "source": [
    "import pandas as pd\n",
    "# Convert to DataFrame\n",
    "iris_df = pd.DataFrame(data=iris.data, columns=iris.feature_names)\n",
    "# Add the target column\n",
    "iris_df['target'] = iris.target\n",
    "# Display the first few rows of the DataFrame\n",
    "print(iris_df.head())\n"
   ]
  },
  {
   "cell_type": "code",
   "execution_count": 36,
   "metadata": {},
   "outputs": [
    {
     "data": {
      "image/png": "[encoded data removed]",
      "text/plain": [
       "<Figure size 640x480 with 1 Axes>"
      ]
     },
     "metadata": {},
     "output_type": "display_data"
    }
   ],
   "source": [
    "import matplotlib.pyplot as plt\n",
    "# Scatter plot of two features\n",
    "plt.scatter(iris_df['sepal length (cm)'], iris_df['sepal width (cm)'], c=iris_df['target'])\n",
    "plt.xlabel('Sepal Length (cm)')\n",
    "plt.ylabel('Sepal Width (cm)')\n",
    "plt.title('Sepal Length vs Sepal Width')\n",
    "plt.show()\n"
   ]
  },
  {
   "cell_type": "markdown",
   "metadata": {},
   "source": [
    "<p><b>My follow on prompt:</b> Why did you use load iris?</p>\n",
    "\n",
    "<p><b>Answer:</b></p>\n",
    "\n",
    "<p>I used the load_iris function because the Iris dataset is one of the most well-known and widely used datasets in machine learning. It's a simple, clean dataset that is perfect for beginners to practice with. Here are a few reasons why it's commonly used:\n",
    "\n",
    "Simplicity: The dataset is small and easy to understand, with only 150 samples and 4 features (sepal length, sepal width, petal length, and petal width).\n",
    "Balanced Classes: It contains three classes (species of iris flowers) with an equal number of samples in each class, making it ideal for classification tasks.\n",
    "Built-in Availability: The Iris dataset is included in Scikit-Learn, so you don't need to download it separately. This makes it very convenient for quick experiments and learning.</p>\n",
    "\n",
    "<p><b>AI Suggested Prompt:</b> What are some other popular datasets?</p>\n",
    "\n",
    "<p><b>Answer:</b></p>\n",
    "\n",
    "<p>\n",
    "<ul>\n",
    "<li><b>MNIST Dataset: </b>This dataset contains 70,000 images of handwritten digits (0-9). It's widely used for training image processing systems and is great for beginners in machine learning.</li>\n",
    "<li><b>Boston Housing Dataset:</b> This dataset includes information about housing prices in Boston, along with various features like the number of rooms, crime rates, and more. It's commonly used for regression tasks.</li>\n",
    "<li><b>CIFAR-10 and CIFAR-100:</b> These datasets consist of 60,000 32x32 color images in 10 and 100 classes, respectively. They are used for image classification tasks.</li>\n",
    "<li><b>Wine Dataset:</b> This dataset contains information about different types of wine and their chemical properties. It's often used for classification tasks.</li>\n",
    "<li><b>Breast Cancer Wisconsin Dataset:</b> This dataset includes features related to breast cancer tumors and is used for binary classification tasks to predict whether a tumor is malignant or benign.</li>\n",
    "</ul>\n",
    "</p>\n",
    "\n",
    "<h4>Learning Outcomes</h4>\n",
    "\n",
    "<p>I can now identify and use basic Python functions and libraries. I understand how to work with user input, print output, use variables, and handle errors. I’ve also started learning how machine learning datasets like the Iris dataset are structured and why they’re used in certain situations. I’m becoming more comfortable reading code, understanding its purpose, and thinking critically about dataset selection.</p>"
   ]
  },
  {
   "cell_type": "markdown",
   "metadata": {},
   "source": [
    "<h3>Data Processing</h3>\n",
    "\n",
    "<p>From the workbook, the following were suggested as prompts to use for Copilot and are structured in the following order:</p>\n",
    "\n",
    "<ul>\n",
    "<li> Handling missing values </li>\n",
    "<li> Encoding Categorical Variables</li>\n",
    "<li>Feature Scaling</li>\n",
    "<li> Standardisation </li>\n",
    "</ul>"
   ]
  },
  {
   "cell_type": "code",
   "execution_count": 37,
   "metadata": {},
   "outputs": [
    {
     "name": "stdout",
     "output_type": "stream",
     "text": [
      "   Feature1 Feature2  Feature3\n",
      "0       1.0        A        10\n",
      "1       2.0        B        20\n",
      "2       NaN        B        30\n",
      "3       4.0      NaN        40\n",
      "4       5.0        A        50\n"
     ]
    },
    {
     "ename": "ValueError",
     "evalue": "2",
     "output_type": "error",
     "traceback": [
      "\u001b[31m---------------------------------------------------------------------------\u001b[39m",
      "\u001b[31mValueError\u001b[39m                                Traceback (most recent call last)",
      "\u001b[36mCell\u001b[39m\u001b[36m \u001b[39m\u001b[32mIn[37]\u001b[39m\u001b[32m, line 19\u001b[39m\n\u001b[32m     17\u001b[39m \u001b[38;5;66;03m# For categorical columns, we can use the most frequent value\u001b[39;00m\n\u001b[32m     18\u001b[39m imputer = SimpleImputer(strategy=\u001b[33m'\u001b[39m\u001b[33mmost_frequent\u001b[39m\u001b[33m'\u001b[39m)\n\u001b[32m---> \u001b[39m\u001b[32m19\u001b[39m \u001b[43mdf\u001b[49m\u001b[43m[\u001b[49m\u001b[33;43m'\u001b[39;49m\u001b[33;43mFeature2\u001b[39;49m\u001b[33;43m'\u001b[39;49m\u001b[43m]\u001b[49m = imputer.fit_transform(df[[\u001b[33m'\u001b[39m\u001b[33mFeature2\u001b[39m\u001b[33m'\u001b[39m]])\n\u001b[32m     20\u001b[39m \u001b[38;5;66;03m# Display the DataFrame after imputation\u001b[39;00m\n\u001b[32m     21\u001b[39m \u001b[38;5;28mprint\u001b[39m(df)\n",
      "\u001b[36mFile \u001b[39m\u001b[32m~/.local/lib/python3.12/site-packages/pandas/core/frame.py:4311\u001b[39m, in \u001b[36mDataFrame.__setitem__\u001b[39m\u001b[34m(self, key, value)\u001b[39m\n\u001b[32m   4308\u001b[39m     \u001b[38;5;28mself\u001b[39m._setitem_array([key], value)\n\u001b[32m   4309\u001b[39m \u001b[38;5;28;01melse\u001b[39;00m:\n\u001b[32m   4310\u001b[39m     \u001b[38;5;66;03m# set column\u001b[39;00m\n\u001b[32m-> \u001b[39m\u001b[32m4311\u001b[39m     \u001b[38;5;28;43mself\u001b[39;49m\u001b[43m.\u001b[49m\u001b[43m_set_item\u001b[49m\u001b[43m(\u001b[49m\u001b[43mkey\u001b[49m\u001b[43m,\u001b[49m\u001b[43m \u001b[49m\u001b[43mvalue\u001b[49m\u001b[43m)\u001b[49m\n",
      "\u001b[36mFile \u001b[39m\u001b[32m~/.local/lib/python3.12/site-packages/pandas/core/frame.py:4524\u001b[39m, in \u001b[36mDataFrame._set_item\u001b[39m\u001b[34m(self, key, value)\u001b[39m\n\u001b[32m   4514\u001b[39m \u001b[38;5;28;01mdef\u001b[39;00m\u001b[38;5;250m \u001b[39m\u001b[34m_set_item\u001b[39m(\u001b[38;5;28mself\u001b[39m, key, value) -> \u001b[38;5;28;01mNone\u001b[39;00m:\n\u001b[32m   4515\u001b[39m \u001b[38;5;250m    \u001b[39m\u001b[33;03m\"\"\"\u001b[39;00m\n\u001b[32m   4516\u001b[39m \u001b[33;03m    Add series to DataFrame in specified column.\u001b[39;00m\n\u001b[32m   4517\u001b[39m \n\u001b[32m   (...)\u001b[39m\u001b[32m   4522\u001b[39m \u001b[33;03m    ensure homogeneity.\u001b[39;00m\n\u001b[32m   4523\u001b[39m \u001b[33;03m    \"\"\"\u001b[39;00m\n\u001b[32m-> \u001b[39m\u001b[32m4524\u001b[39m     value, refs = \u001b[38;5;28;43mself\u001b[39;49m\u001b[43m.\u001b[49m\u001b[43m_sanitize_column\u001b[49m\u001b[43m(\u001b[49m\u001b[43mvalue\u001b[49m\u001b[43m)\u001b[49m\n\u001b[32m   4526\u001b[39m     \u001b[38;5;28;01mif\u001b[39;00m (\n\u001b[32m   4527\u001b[39m         key \u001b[38;5;129;01min\u001b[39;00m \u001b[38;5;28mself\u001b[39m.columns\n\u001b[32m   4528\u001b[39m         \u001b[38;5;129;01mand\u001b[39;00m value.ndim == \u001b[32m1\u001b[39m\n\u001b[32m   4529\u001b[39m         \u001b[38;5;129;01mand\u001b[39;00m \u001b[38;5;129;01mnot\u001b[39;00m \u001b[38;5;28misinstance\u001b[39m(value.dtype, ExtensionDtype)\n\u001b[32m   4530\u001b[39m     ):\n\u001b[32m   4531\u001b[39m         \u001b[38;5;66;03m# broadcast across multiple columns if necessary\u001b[39;00m\n\u001b[32m   4532\u001b[39m         \u001b[38;5;28;01mif\u001b[39;00m \u001b[38;5;129;01mnot\u001b[39;00m \u001b[38;5;28mself\u001b[39m.columns.is_unique \u001b[38;5;129;01mor\u001b[39;00m \u001b[38;5;28misinstance\u001b[39m(\u001b[38;5;28mself\u001b[39m.columns, MultiIndex):\n",
      "\u001b[36mFile \u001b[39m\u001b[32m~/.local/lib/python3.12/site-packages/pandas/core/frame.py:5267\u001b[39m, in \u001b[36mDataFrame._sanitize_column\u001b[39m\u001b[34m(self, value)\u001b[39m\n\u001b[32m   5265\u001b[39m \u001b[38;5;28;01mif\u001b[39;00m is_list_like(value):\n\u001b[32m   5266\u001b[39m     com.require_length_match(value, \u001b[38;5;28mself\u001b[39m.index)\n\u001b[32m-> \u001b[39m\u001b[32m5267\u001b[39m arr = \u001b[43msanitize_array\u001b[49m\u001b[43m(\u001b[49m\u001b[43mvalue\u001b[49m\u001b[43m,\u001b[49m\u001b[43m \u001b[49m\u001b[38;5;28;43mself\u001b[39;49m\u001b[43m.\u001b[49m\u001b[43mindex\u001b[49m\u001b[43m,\u001b[49m\u001b[43m \u001b[49m\u001b[43mcopy\u001b[49m\u001b[43m=\u001b[49m\u001b[38;5;28;43;01mTrue\u001b[39;49;00m\u001b[43m,\u001b[49m\u001b[43m \u001b[49m\u001b[43mallow_2d\u001b[49m\u001b[43m=\u001b[49m\u001b[38;5;28;43;01mTrue\u001b[39;49;00m\u001b[43m)\u001b[49m\n\u001b[32m   5268\u001b[39m \u001b[38;5;28;01mif\u001b[39;00m (\n\u001b[32m   5269\u001b[39m     \u001b[38;5;28misinstance\u001b[39m(value, Index)\n\u001b[32m   5270\u001b[39m     \u001b[38;5;129;01mand\u001b[39;00m value.dtype == \u001b[33m\"\u001b[39m\u001b[33mobject\u001b[39m\u001b[33m\"\u001b[39m\n\u001b[32m   (...)\u001b[39m\u001b[32m   5273\u001b[39m     \u001b[38;5;66;03m# TODO: Remove kludge in sanitize_array for string mode when enforcing\u001b[39;00m\n\u001b[32m   5274\u001b[39m     \u001b[38;5;66;03m# this deprecation\u001b[39;00m\n\u001b[32m   5275\u001b[39m     warnings.warn(\n\u001b[32m   5276\u001b[39m         \u001b[33m\"\u001b[39m\u001b[33mSetting an Index with object dtype into a DataFrame will stop \u001b[39m\u001b[33m\"\u001b[39m\n\u001b[32m   5277\u001b[39m         \u001b[33m\"\u001b[39m\u001b[33minferring another dtype in a future version. Cast the Index \u001b[39m\u001b[33m\"\u001b[39m\n\u001b[32m   (...)\u001b[39m\u001b[32m   5280\u001b[39m         stacklevel=find_stack_level(),\n\u001b[32m   5281\u001b[39m     )\n",
      "\u001b[36mFile \u001b[39m\u001b[32m~/.local/lib/python3.12/site-packages/pandas/core/construction.py:606\u001b[39m, in \u001b[36msanitize_array\u001b[39m\u001b[34m(data, index, dtype, copy, allow_2d)\u001b[39m\n\u001b[32m    604\u001b[39m subarr = data\n\u001b[32m    605\u001b[39m \u001b[38;5;28;01mif\u001b[39;00m data.dtype == \u001b[38;5;28mobject\u001b[39m:\n\u001b[32m--> \u001b[39m\u001b[32m606\u001b[39m     subarr = \u001b[43mmaybe_infer_to_datetimelike\u001b[49m\u001b[43m(\u001b[49m\u001b[43mdata\u001b[49m\u001b[43m)\u001b[49m\n\u001b[32m    607\u001b[39m     \u001b[38;5;28;01mif\u001b[39;00m (\n\u001b[32m    608\u001b[39m         object_index\n\u001b[32m    609\u001b[39m         \u001b[38;5;129;01mand\u001b[39;00m using_pyarrow_string_dtype()\n\u001b[32m    610\u001b[39m         \u001b[38;5;129;01mand\u001b[39;00m is_string_dtype(subarr)\n\u001b[32m    611\u001b[39m     ):\n\u001b[32m    612\u001b[39m         \u001b[38;5;66;03m# Avoid inference when string option is set\u001b[39;00m\n\u001b[32m    613\u001b[39m         subarr = data\n",
      "\u001b[36mFile \u001b[39m\u001b[32m~/.local/lib/python3.12/site-packages/pandas/core/dtypes/cast.py:1181\u001b[39m, in \u001b[36mmaybe_infer_to_datetimelike\u001b[39m\u001b[34m(value)\u001b[39m\n\u001b[32m   1178\u001b[39m     \u001b[38;5;28;01mraise\u001b[39;00m \u001b[38;5;167;01mTypeError\u001b[39;00m(\u001b[38;5;28mtype\u001b[39m(value))  \u001b[38;5;66;03m# pragma: no cover\u001b[39;00m\n\u001b[32m   1179\u001b[39m \u001b[38;5;28;01mif\u001b[39;00m value.ndim != \u001b[32m1\u001b[39m:\n\u001b[32m   1180\u001b[39m     \u001b[38;5;66;03m# Caller is responsible\u001b[39;00m\n\u001b[32m-> \u001b[39m\u001b[32m1181\u001b[39m     \u001b[38;5;28;01mraise\u001b[39;00m \u001b[38;5;167;01mValueError\u001b[39;00m(value.ndim)  \u001b[38;5;66;03m# pragma: no cover\u001b[39;00m\n\u001b[32m   1183\u001b[39m \u001b[38;5;28;01mif\u001b[39;00m \u001b[38;5;129;01mnot\u001b[39;00m \u001b[38;5;28mlen\u001b[39m(value):\n\u001b[32m   1184\u001b[39m     \u001b[38;5;28;01mreturn\u001b[39;00m value\n",
      "\u001b[31mValueError\u001b[39m: 2"
     ]
    }
   ],
   "source": [
    "import pandas as pd\n",
    "import numpy as np\n",
    "# Create a sample DataFrame\n",
    "data = {\n",
    "    'Feature1': [1, 2, np.nan, 4, 5],\n",
    "    'Feature2': ['A', 'B', 'B', np.nan, 'A'],\n",
    "    'Feature3': [10, 20, 30, 40, 50]\n",
    "}\n",
    "df = pd.DataFrame(data)\n",
    "# Display the DataFrame\n",
    "print(df)\n",
    "from sklearn.impute import SimpleImputer\n",
    "# Create an imputer object with a strategy to fill missing values with the mean\n",
    "imputer = SimpleImputer(strategy='mean')\n",
    "# Apply the imputer to the numeric columns\n",
    "df['Feature1'] = imputer.fit_transform(df[['Feature1']])\n",
    "# For categorical columns, we can use the most frequent value\n",
    "imputer = SimpleImputer(strategy='most_frequent')\n",
    "df['Feature2'] = imputer.fit_transform(df[['Feature2']])\n",
    "# Display the DataFrame after imputation\n",
    "print(df)\n"
   ]
  },
  {
   "cell_type": "code",
   "execution_count": 38,
   "metadata": {},
   "outputs": [
    {
     "ename": "TypeError",
     "evalue": "OneHotEncoder.__init__() got an unexpected keyword argument 'sparse'",
     "output_type": "error",
     "traceback": [
      "\u001b[31m---------------------------------------------------------------------------\u001b[39m",
      "\u001b[31mTypeError\u001b[39m                                 Traceback (most recent call last)",
      "\u001b[36mCell\u001b[39m\u001b[36m \u001b[39m\u001b[32mIn[38]\u001b[39m\u001b[32m, line 3\u001b[39m\n\u001b[32m      1\u001b[39m \u001b[38;5;28;01mfrom\u001b[39;00m\u001b[38;5;250m \u001b[39m\u001b[34;01msklearn\u001b[39;00m\u001b[34;01m.\u001b[39;00m\u001b[34;01mpreprocessing\u001b[39;00m\u001b[38;5;250m \u001b[39m\u001b[38;5;28;01mimport\u001b[39;00m OneHotEncoder\n\u001b[32m      2\u001b[39m \u001b[38;5;66;03m# Create an encoder object\u001b[39;00m\n\u001b[32m----> \u001b[39m\u001b[32m3\u001b[39m encoder = \u001b[43mOneHotEncoder\u001b[49m\u001b[43m(\u001b[49m\u001b[43msparse\u001b[49m\u001b[43m=\u001b[49m\u001b[38;5;28;43;01mFalse\u001b[39;49;00m\u001b[43m)\u001b[49m\n\u001b[32m      4\u001b[39m \u001b[38;5;66;03m# Apply the encoder to the categorical column\u001b[39;00m\n\u001b[32m      5\u001b[39m encoded_features = encoder.fit_transform(df[[\u001b[33m'\u001b[39m\u001b[33mFeature2\u001b[39m\u001b[33m'\u001b[39m]])\n",
      "\u001b[31mTypeError\u001b[39m: OneHotEncoder.__init__() got an unexpected keyword argument 'sparse'"
     ]
    }
   ],
   "source": [
    "from sklearn.preprocessing import OneHotEncoder\n",
    "# Create an encoder object\n",
    "encoder = OneHotEncoder(sparse=False)\n",
    "# Apply the encoder to the categorical column\n",
    "encoded_features = encoder.fit_transform(df[['Feature2']])\n",
    "# Convert the encoded features to a DataFrame\n",
    "encoded_df = pd.DataFrame(encoded_features, columns=encoder.get_feature_names_out(['Feature2']))\n",
    "# Concatenate the original DataFrame with the encoded DataFrame\n",
    "df = pd.concat([df, encoded_df], axis=1).drop('Feature2', axis=1)\n",
    "# Display the DataFrame after encoding\n",
    "print(df)\n"
   ]
  },
  {
   "cell_type": "code",
   "execution_count": 39,
   "metadata": {},
   "outputs": [
    {
     "name": "stdout",
     "output_type": "stream",
     "text": [
      "   Feature1 Feature2  Feature3\n",
      "0      0.00        A      0.00\n",
      "1      0.25        B      0.25\n",
      "2      0.50        B      0.50\n",
      "3      0.75      NaN      0.75\n",
      "4      1.00        A      1.00\n"
     ]
    }
   ],
   "source": [
    "from sklearn.preprocessing import MinMaxScaler\n",
    "# Create a scaler object\n",
    "scaler = MinMaxScaler()\n",
    "# Apply the scaler to the DataFrame\n",
    "df[['Feature1', 'Feature3']] = scaler.fit_transform(df[['Feature1', 'Feature3']])\n",
    "# Display the DataFrame after normalization\n",
    "print(df)\n"
   ]
  },
  {
   "cell_type": "code",
   "execution_count": 40,
   "metadata": {},
   "outputs": [
    {
     "name": "stdout",
     "output_type": "stream",
     "text": [
      "   Feature1 Feature2  Feature3\n",
      "0 -1.414214        A -1.414214\n",
      "1 -0.707107        B -0.707107\n",
      "2  0.000000        B  0.000000\n",
      "3  0.707107      NaN  0.707107\n",
      "4  1.414214        A  1.414214\n"
     ]
    }
   ],
   "source": [
    "from sklearn.preprocessing import StandardScaler\n",
    "# Create a scaler object\n",
    "scaler = StandardScaler()\n",
    "# Apply the scaler to the DataFrame\n",
    "df[['Feature1', 'Feature3']] = scaler.fit_transform(df[['Feature1', 'Feature3']])\n",
    "# Display the DataFrame after standardization\n",
    "print(df)\n"
   ]
  },
  {
   "cell_type": "markdown",
   "metadata": {},
   "source": [
    "<P><b>AI Suggested Prompt:</b> Can you explain more about feature scaling?</p>\n",
    "\n",
    "<p><B>Answer:</b></p>\n",
    "\n",
    "<p>When to use each method:\n",
    "\n",
    "<ul>\n",
    "<LI>Normalisation: Use when the data does not follow a Guassaian distribution and you want to scale features to a specific range</li>\n",
    "<li>Standardisation: Use when the data follows a Guassian distribution and you want to scale features to have a mean of 0 and a ST of 1.</li>\n",
    "</ul>\n",
    "\n",
    "Summary:\n",
    "<ul>\n",
    "<li>Improving Model Performance: Many machine learning algorithms perform better when features are on a similaar scale</li>\n",
    "<li>Speeding up Covergence: Algorithms like gradient descent coverage faster when features are scaled</li>\n",
    "<li>Handling different units: It ensures that features with different units (e.g. heigh in cm and weight in kg) contribute eually to the model.</li>\n",
    "</p>\n"
   ]
  },
  {
   "cell_type": "code",
   "execution_count": 1,
   "metadata": {},
   "outputs": [
    {
     "ename": "NameError",
     "evalue": "name 'pd' is not defined",
     "output_type": "error",
     "traceback": [
      "\u001b[31m---------------------------------------------------------------------------\u001b[39m",
      "\u001b[31mNameError\u001b[39m                                 Traceback (most recent call last)",
      "\u001b[36mCell\u001b[39m\u001b[36m \u001b[39m\u001b[32mIn[1]\u001b[39m\u001b[32m, line 4\u001b[39m\n\u001b[32m      2\u001b[39m \u001b[38;5;66;03m# Sample data\u001b[39;00m\n\u001b[32m      3\u001b[39m data = {\u001b[33m'\u001b[39m\u001b[33mFeature1\u001b[39m\u001b[33m'\u001b[39m: [\u001b[32m1\u001b[39m, \u001b[32m2\u001b[39m, \u001b[32m3\u001b[39m, \u001b[32m4\u001b[39m, \u001b[32m5\u001b[39m], \u001b[33m'\u001b[39m\u001b[33mFeature2\u001b[39m\u001b[33m'\u001b[39m: [\u001b[32m10\u001b[39m, \u001b[32m20\u001b[39m, \u001b[32m30\u001b[39m, \u001b[32m40\u001b[39m, \u001b[32m50\u001b[39m]}\n\u001b[32m----> \u001b[39m\u001b[32m4\u001b[39m df = \u001b[43mpd\u001b[49m.DataFrame(data)\n\u001b[32m      5\u001b[39m \u001b[38;5;66;03m# Create a scaler object\u001b[39;00m\n\u001b[32m      6\u001b[39m scaler = StandardScaler()\n",
      "\u001b[31mNameError\u001b[39m: name 'pd' is not defined"
     ]
    }
   ],
   "source": [
    "from sklearn.preprocessing import StandardScaler\n",
    "# Sample data\n",
    "data = {'Feature1': [1, 2, 3, 4, 5], 'Feature2': [10, 20, 30, 40, 50]}\n",
    "df = pd.DataFrame(data)\n",
    "# Create a scaler object\n",
    "scaler = StandardScaler()\n",
    "# Apply the scaler to the DataFrame\n",
    "df[['Feature1', 'Feature2']] = scaler.fit_transform(df[['Feature1', 'Feature2']])\n",
    "# Display the DataFrame after standardization\n",
    "print(df)\n"
   ]
  },
  {
   "cell_type": "markdown",
   "metadata": {},
   "source": [
    "<p>The above code did not work. I inputted the code and the error into Copilot, and it corrected it because I had not imported pandas yet. Below is the correct version</p>"
   ]
  },
  {
   "cell_type": "code",
   "execution_count": 1,
   "metadata": {},
   "outputs": [
    {
     "name": "stdout",
     "output_type": "stream",
     "text": [
      "   Feature1  Feature2\n",
      "0 -1.414214 -1.414214\n",
      "1 -0.707107 -0.707107\n",
      "2  0.000000  0.000000\n",
      "3  0.707107  0.707107\n",
      "4  1.414214  1.414214\n"
     ]
    }
   ],
   "source": [
    "import pandas as pd\n",
    "from sklearn.preprocessing import StandardScaler\n",
    "\n",
    "# Sample data\n",
    "data = {'Feature1': [1, 2, 3, 4, 5], 'Feature2': [10, 20, 30, 40, 50]}\n",
    "df = pd.DataFrame(data)\n",
    "\n",
    "# Create a scaler object\n",
    "scaler = StandardScaler()\n",
    "\n",
    "# Apply the scaler to the DataFrame\n",
    "df[['Feature1', 'Feature2']] = scaler.fit_transform(df[['Feature1', 'Feature2']])\n",
    "\n",
    "# Display the DataFrame after standardization\n",
    "print(df)"
   ]
  },
  {
   "cell_type": "code",
   "execution_count": 2,
   "metadata": {},
   "outputs": [
    {
     "name": "stdout",
     "output_type": "stream",
     "text": [
      "   Feature1  Feature2\n",
      "0      0.00      0.00\n",
      "1      0.25      0.25\n",
      "2      0.50      0.50\n",
      "3      0.75      0.75\n",
      "4      1.00      1.00\n"
     ]
    }
   ],
   "source": [
    "from sklearn.preprocessing import MinMaxScaler\n",
    "# Sample data\n",
    "data = {'Feature1': [1, 2, 3, 4, 5], 'Feature2': [10, 20, 30, 40, 50]}\n",
    "df = pd.DataFrame(data)\n",
    "# Create a scaler object\n",
    "scaler = MinMaxScaler()\n",
    "# Apply the scaler to the DataFrame\n",
    "df[['Feature1', 'Feature2']] = scaler.fit_transform(df[['Feature1', 'Feature2']])\n",
    "# Display the DataFrame after normalization\n",
    "print(df)\n"
   ]
  },
  {
   "cell_type": "markdown",
   "metadata": {},
   "source": [
    "<p><b>My Prompt:</b> In what case would I need to use scaling?</p>\n",
    "\n",
    "<p><b>Answer:</b>\n",
    "\n",
    "Imagine you are working on a dataset with the following features:\n",
    "\n",
    "<ul>\n",
    "<li> Age: Ranges from 0 to 100 years</li>\n",
    "<li>Income: Ranges from $0 to $100,000</li>\n",
    "<li> Number of Purchases: Ranges from 0 to 50</li>\n",
    "</ul>\n",
    "\n",
    "In this case, the income feature has a much larger range than the other features. Without scaling, the model might give more importance to the income feature, leading to biased results. By scaling the features, you ensure that all features contribute equally to the model.\n",
    "</p>\n",
    "\n",
    "<h4>Learning Outcomes</h4>\n",
    "\n",
    "<p>In this section, I learned how to prepare data for machine learning using Scikit-Learn. I handled missing values by using mean imputation for numerical data and the most frequent value for categorical data. I also encoded categorical variables using one-hot encoding to convert them into numerical format. Additionally, I explored feature scaling techniques, including normalization (MinMaxScaler) to scale features between 0 and 1, and standardization (StandardScaler) to centre features around a mean of 0 with a standard deviation of 1. I now understand when and why to use each method, depending on the distribution and nature of the data. Having code not work, I understood why it did not through the help of AI.</p>\n"
   ]
  },
  {
   "cell_type": "markdown",
   "metadata": {},
   "source": [
    "<h3>Splitting Data</h3>\n",
    "\n",
    "<p>This was done using the suggested prompts from the course book. They are structured in the following:\n",
    "\n",
    "<ul>\n",
    "<li>Loading a data set</li>\n",
    "<li>Converting to a dataframe</li>\n",
    "<li>Splitting the data</li>\n",
    "<li>Importance of data splitting</li>\n",
    "\n",
    "</ul>\n",
    "</p>"
   ]
  },
  {
   "cell_type": "code",
   "execution_count": 3,
   "metadata": {},
   "outputs": [],
   "source": [
    "from sklearn.datasets import load_iris\n",
    "# Load the Iris dataset\n",
    "iris = load_iris()\n"
   ]
  },
  {
   "cell_type": "code",
   "execution_count": 4,
   "metadata": {},
   "outputs": [
    {
     "name": "stdout",
     "output_type": "stream",
     "text": [
      "   sepal length (cm)  sepal width (cm)  petal length (cm)  petal width (cm)  \\\n",
      "0                5.1               3.5                1.4               0.2   \n",
      "1                4.9               3.0                1.4               0.2   \n",
      "2                4.7               3.2                1.3               0.2   \n",
      "3                4.6               3.1                1.5               0.2   \n",
      "4                5.0               3.6                1.4               0.2   \n",
      "\n",
      "   target  \n",
      "0       0  \n",
      "1       0  \n",
      "2       0  \n",
      "3       0  \n",
      "4       0  \n"
     ]
    }
   ],
   "source": [
    "import pandas as pd\n",
    "# Convert to DataFrame\n",
    "iris_df = pd.DataFrame(data=iris.data, columns=iris.feature_names)\n",
    "# Add the target column\n",
    "iris_df['target'] = iris.target\n",
    "# Display the first few rows of the DataFrame\n",
    "print(iris_df.head())\n"
   ]
  },
  {
   "cell_type": "code",
   "execution_count": 5,
   "metadata": {},
   "outputs": [
    {
     "name": "stdout",
     "output_type": "stream",
     "text": [
      "X_train shape: (120, 4)\n",
      "X_test shape: (30, 4)\n",
      "y_train shape: (120,)\n",
      "y_test shape: (30,)\n"
     ]
    }
   ],
   "source": [
    "from sklearn.model_selection import train_test_split\n",
    "# Define features and target\n",
    "X = iris_df.drop('target', axis=1)\n",
    "y = iris_df['target']\n",
    "# Split the data\n",
    "X_train, X_test, y_train, y_test = train_test_split(X, y, test_size=0.2, random_state=42)\n",
    "# Display the shapes of the resulting datasets\n",
    "print(f\"X_train shape: {X_train.shape}\")\n",
    "print(f\"X_test shape: {X_test.shape}\")\n",
    "print(f\"y_train shape: {y_train.shape}\")\n",
    "print(f\"y_test shape: {y_test.shape}\")\n"
   ]
  },
  {
   "cell_type": "markdown",
   "metadata": {},
   "source": [
    "<ul>\n",
    "<li>Model Training: The training set is used to train your machine learning model. The model learns patterns and relationships from this data.</li>\n",
    "<li>Preventing Overfitting: By evaluating your model on a separate testing set, you can detect overfitting. Overfitting occurs when a model performs well on the training data but poorly on new data.</li>"
   ]
  },
  {
   "cell_type": "markdown",
   "metadata": {},
   "source": [
    "<p><b>AI Suggested Prompt:</b> Show me how to train a model.</p>"
   ]
  },
  {
   "cell_type": "code",
   "execution_count": 6,
   "metadata": {},
   "outputs": [
    {
     "name": "stdout",
     "output_type": "stream",
     "text": [
      "Model Accuracy: 100.00%\n"
     ]
    }
   ],
   "source": [
    "from sklearn.datasets import load_iris\n",
    "from sklearn.model_selection import train_test_split\n",
    "from sklearn.tree import DecisionTreeClassifier\n",
    "from sklearn.metrics import accuracy_score\n",
    "import pandas as pd\n",
    "# Load the Iris dataset\n",
    "iris = load_iris()\n",
    "# Convert to DataFrame\n",
    "iris_df = pd.DataFrame(data=iris.data, columns=iris.feature_names)\n",
    "iris_df['target'] = iris.target\n",
    "# Define features and target\n",
    "X = iris_df.drop('target', axis=1)\n",
    "y = iris_df['target']\n",
    "# Split the data\n",
    "X_train, X_test, y_train, y_test = train_test_split(X, y, test_size=0.2, random_state=42)\n",
    "# Create a Decision Tree classifier\n",
    "clf = DecisionTreeClassifier(random_state=42)\n",
    "# Train the classifier on the training data\n",
    "clf.fit(X_train, y_train)\n",
    "# Make predictions on the testing set\n",
    "y_pred = clf.predict(X_test)\n",
    "# Calculate the accuracy of the model\n",
    "accuracy = accuracy_score(y_test, y_pred)\n",
    "# Print the accuracy\n",
    "print(f\"Model Accuracy: {accuracy * 100:.2f}%\")\n"
   ]
  },
  {
   "cell_type": "markdown",
   "metadata": {},
   "source": [
    "<h4>Learning Outcomes</h4>\n",
    "\n",
    "<p>In this section, I learned how to split a dataset into training and testing sets using Scikit-Learn. I worked with the Iris dataset, converting it into a DataFrame and separating the features and target variable. Using train_test_split, I divided the data to ensure that the model could be trained on one portion and tested on another. This is crucial for evaluating model performance and avoiding overfitting. I also trained a simple Decision Tree classifier and used it to make predictions, calculating its accuracy on the test data to assess how well the model generalised to unseen inputs.</p>"
   ]
  },
  {
   "cell_type": "markdown",
   "metadata": {},
   "source": [
    "<h3><b>Choosing and Training a Model</b></h3>\n",
    "\n",
    "<p>The following is based on the prompts provided to me in the course lab book. They are organised in the following:</p>\n",
    "\n",
    "<ul>\n",
    "    <li>Overview of common Algorithms</li>\n",
    "    <li>Converting to a data frame</li>\n",
    "    <li>Linear Regressions</li>\n",
    "    <li> K-nearest neighbours</li>\n",
    "    <li> Decision Tree</li>\n",
    "    </ul>"
   ]
  }
 ],
 "metadata": {
  "kernelspec": {
   "display_name": "Python 3",
   "language": "python",
   "name": "python3"
  },
  "language_info": {
   "codemirror_mode": {
    "name": "ipython",
    "version": 3
   },
   "file_extension": ".py",
   "mimetype": "text/x-python",
   "name": "python",
   "nbconvert_exporter": "python",
   "pygments_lexer": "ipython3",
   "version": "3.12.1"
  }
 },
 "nbformat": 4,
 "nbformat_minor": 2
}
