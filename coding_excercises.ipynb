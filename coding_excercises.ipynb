{
 "cells": [
  {
   "cell_type": "markdown",
   "metadata": {},
   "source": [
    "<h1>AI For the Arts and Humanities</h1>\n",
    "\n",
    "<p>\n",
    "This notebook is for learning basic programming concepts.\n",
    "</p>\n",
    "\n"
   ]
  },
  {
   "cell_type": "markdown",
   "metadata": {},
   "source": [
    "<h1>Hello, World!</h1>\n",
    "\n",
    "<p>\n",
    "The following code was created as my first attempt at programming in this course. It is meant to help me understand how to write and run code in GitHub Codespaces.\n",
    "</p>"
   ]
  },
  {
   "cell_type": "code",
   "execution_count": null,
   "metadata": {},
   "outputs": [],
   "source": [
    "print(\"Hello, World!\")"
   ]
  },
  {
   "cell_type": "markdown",
   "metadata": {},
   "source": [
    "<h1>Printing</h1>\n",
    "\n",
    "<p><b>Prompt submitted to Copilot:</b>\n",
    "\"Could you suggest a python\n",
    "code for ‘Hello, world!’to demonstrate the concept of printing to a\n",
    "complete beginner in programming? Please explain the code step-by-step\n",
    "highlighting any key aspects\"\n",
    "</p>\n",
    "\n",
    "<p><b>Key Learning Outcomes</b></p>\n",
    "<ul>\n",
    "<li>To understand the steps taken in coding a simple phrase.</li>\n",
    "<li>The follow-on prompts show how AI can be used as an assistant to learn more, and figure out how mistakes can be solved.</li>\n",
    "</ul>"
   ]
  },
  {
   "cell_type": "code",
   "execution_count": 1,
   "metadata": {},
   "outputs": [
    {
     "name": "stdout",
     "output_type": "stream",
     "text": [
      "Hello, world!\n"
     ]
    }
   ],
   "source": [
    "print(\"Hello, world!\")\n"
   ]
  },
  {
   "cell_type": "markdown",
   "metadata": {},
   "source": [
    "<h2>Follow On Prompts</h2>\n",
    "\n",
    "<p><b>Prompt submitted to Copilot:</b> Can you explain indentation errors?</p>\n",
    "\n",
    "<p><b>Response:</b></p>\n",
    "\n",
    "<p>Common Casues of Indentation Errors</p>\n",
    "<ul>\n",
    "<li><b>Incosistent Indentation:</b> Mixing spaces and tabs can cause errors. It's best to use one consistently, preferably spaces.</li>\n",
    "<li><b>Incorrect Indentation Level:</b> Each block of code (like loops, functions, and conditionals) must be idented correctly.</li>\n",
    "<li><b>Missing Identation:</b> Forgetting to indent a block of code that requires it.</li>\n",
    "</ul>\n",
    "\n",
    "<p>How to Fix Indentation Errors</p>\n",
    "<ul>\n",
    "<li><b>Consistent Indentation:</b> Use 4 spaces per indetation level. Most IDEs and text editors can be configured to insert spaces when you press the Tab key.</li>\n",
    "<li><b>Check Indentation Levels:</b> Ensure all lines within the same block are indented equally.</li>\n",
    "<li><b>Use an IDE:</b> IDEs like PyCharm or VS Code highlight indentation errors, making them easier to spot and fix.</li>\n",
    "</ul>"
   ]
  },
  {
   "cell_type": "markdown",
   "metadata": {},
   "source": [
    "<h1>Understanding Variables</h1>\n",
    "\n",
    "<p><b>Prompt submitted to Copilot:</b> \"Could you suggest a modification of the Python code for \"Hello world!\" to demonstrate the concept of variables to a complete beginner in programming? Please explain the code step-by-step highlighting any key aspects.\"</p>\n",
    "\n",
    "<p><b>Prompts suggested by Copilot</b></p>\n",
    "<ul>\n",
    "<li>Can you explain more about functions?</li>\n",
    "</ul>\n",
    "\n",
    "<p><b>Key Learning Outcomes</b></p>\n",
    "<ul>\n",
    "<li>fjdfnd</li>\n",
    "<li>kdfjdkfj</li>\n",
    "</ul>\n",
    "\n",
    "<p><b>Example With Variables</b></p>"
   ]
  },
  {
   "cell_type": "code",
   "execution_count": 1,
   "metadata": {},
   "outputs": [
    {
     "name": "stdout",
     "output_type": "stream",
     "text": [
      "Hello, world!\n"
     ]
    }
   ],
   "source": [
    "# This is a comment explaining the code\n",
    "# We are creating a variable named 'greeting' and assigning it the value \"Hello, world!\"\n",
    "greeting = \"Hello, world!\"\n",
    "\n",
    "# Now we use the print function to display the value of the 'greeting' variable\n",
    "print(greeting)\n"
   ]
  },
  {
   "cell_type": "markdown",
   "metadata": {},
   "source": [
    "<h1>Understanding Functions</h1>\n",
    "\n",
    "<p><b>Prompt Submitted to Copilot:</b> Could you suggest a modification of the Python code for \"Hello, world!\" to demonstrate the concept of functions for a complete beginner in programming? Please explain the code step-by-step highlighting any key aspects.\n",
    "</p>\n",
    "\n",
    "<h3>Reponse:</h3>\n",
    "\n",
    "<p>Step-by-step Explanation</p>\n",
    "<ul>\n",
    "\n",
    "<li><b>Comments:</b> \n",
    "Lines starting with a'hashtag' are comments. They are not executed by the program but are used to explain what code does.</li>\n",
    "\n",
    "<li><b>Function Definition:</b> def say_hello(): This line defines a function named say_hello. The def keyword is used to define a function, followed by the function name and parentheses (). The colon : indicates the start of the function body.</li>\n",
    "<li>A function is a block of code that performs a specific task. Functions help organise and make it reusable.</li>\n",
    "\n",
    "<li><b>Function Body:</b> The lines inside the function are indented to indicate that they belong to the function.</li>\n",
    "<li>greeting = \"Hello, World!\": Inside the function, we create a variable named greeting and assign the value \"Hello, world!\".</li>\n",
    "<li>print(greeting): We use the print function to display the value of the greeting variable.</li>\n",
    "\n",
    "<li><b>Function Call:</b> say_hello(): This line calls the function say_hello, which means it executes the code inside the function. When the function is called, it will print Hello, World! to the sceen.</li>\n",
    "</ul>\n",
    "<p><b>Prompts suggested by Copilot</b></p>\n",
    "<ul>\n",
    "<li>Can you show more examples of functions?</li>\n",
    "</ul>\n",
    "\n",
    "<p><b>Key Aspects:</b></p>\n",
    "\n",
    "<ul>\n",
    "<li><b>Functions:</b> Functions are fundamental in programming. They allow you to group code into reusable blocks. You can define a function once and call it multiple times throughout your program.</li>\n",
    "<li><b>Function Definition and Call:</b> The def keyword is used to define a function, and the function name followed by parentheses is used to call it.</li>\n",
    "<li><b>Indentation:</b> In Python, indentation is crucial. It indicated the block of code that belongs to a function or a loop. Proper indentation is necesary for the code to run correcly</li>\n",
    "</ul>\n",
    "\n",
    "<p><b>Example of functions:</b></p>"
   ]
  },
  {
   "cell_type": "code",
   "execution_count": null,
   "metadata": {},
   "outputs": [],
   "source": [
    "# This is a comment explaining the code\n",
    "# We are defining a function named 'say_hello'\n",
    "def say_hello():\n",
    "    # Inside the function, we create a variable named 'greeting' and assign it the value \"Hello, world!\"\n",
    "    greeting = \"Hello, world!\"\n",
    "    # We use the print function to display the value of the 'greeting' variable\n",
    "    print(greeting)\n",
    "\n",
    "# Now we call the function 'say_hello' to execute the code inside it\n",
    "say_hello()"
   ]
  }
 ],
 "metadata": {
  "kernelspec": {
   "display_name": "Python 3",
   "language": "python",
   "name": "python3"
  },
  "language_info": {
   "codemirror_mode": {
    "name": "ipython",
    "version": 3
   },
   "file_extension": ".py",
   "mimetype": "text/x-python",
   "name": "python",
   "nbconvert_exporter": "python",
   "pygments_lexer": "ipython3",
   "version": "3.12.1"
  }
 },
 "nbformat": 4,
 "nbformat_minor": 2
}
