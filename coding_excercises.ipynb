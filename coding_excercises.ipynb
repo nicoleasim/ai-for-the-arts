{
 "cells": [
  {
   "cell_type": "markdown",
   "metadata": {},
   "source": [
    "<h1>AI For the Arts and Humanities</h1>\n",
    "\n",
    "<p>\n",
    "This notebook is for learning basic programming concepts.\n",
    "</p>\n",
    "\n"
   ]
  },
  {
   "cell_type": "markdown",
   "metadata": {},
   "source": [
    "<h1>Hello, World!</h1>\n",
    "\n",
    "<p>\n",
    "The following code was created as my first attempt at programming in this course. It is meant to help me understand how to write and run code in GitHub Codespaces.\n",
    "</p>"
   ]
  },
  {
   "cell_type": "code",
   "execution_count": null,
   "metadata": {},
   "outputs": [],
   "source": [
    "print(\"Hello, World!\")"
   ]
  },
  {
   "cell_type": "markdown",
   "metadata": {},
   "source": [
    "<h1>Printing</h1>\n",
    "\n",
    "<p><b>Prompt submitted to Copilot:</b>\n",
    "\"Could you suggest a python\n",
    "code for ‘Hello, world!’to demonstrate the concept of printing to a\n",
    "complete beginner in programming? Please explain the code step-by-step\n",
    "highlighting any key aspects\"\n",
    "</p>\n",
    "\n",
    "<p><b>Key Learning Outcomes</b></p>\n",
    "<ul>\n",
    "<li>dhsdhsjd</li>\n",
    "<li>djfjd</li>\n",
    "</ul>"
   ]
  },
  {
   "cell_type": "code",
   "execution_count": 1,
   "metadata": {},
   "outputs": [
    {
     "name": "stdout",
     "output_type": "stream",
     "text": [
      "Hello, world!\n"
     ]
    }
   ],
   "source": [
    "print(\"Hello, world!\")\n"
   ]
  },
  {
   "cell_type": "markdown",
   "metadata": {},
   "source": [
    "<h2>Follow on prompts</h2>\n",
    "\n",
    "<p><b>Prompt submitted to Copilot:</b> Can you explain indentation errors?</p>\n",
    "\n",
    "<p><b>Response:</b></p>\n",
    "\n",
    "<p>Common Casues of Indentation Errors</p>\n",
    "<ul>\n",
    "<li><b>Incosistent Indentation:</b> Mixing spaces and tabs can cause errors. It's best to use one consistently, preferably spaces.</li>\n",
    "<li><b>Incorrect Indentation Level:</b> Each block of code (like loops, functions, and conditionals) must be idented correctly.</li>\n",
    "<li><b>Missing Identation:</b> Forgetting to indent a block of code that requires it.</li>\n",
    "</ul>\n",
    "\n",
    "<p>How to Fix Indentation Errors</p>\n",
    "<ul>\n",
    "<li><b>Consistent Indentation:</b> Use 4 spaces per indetation level. Most IDEs and text editors can be configured to insert spaces when you press the Tab key.</li>\n",
    "<li><b>Check Indentation Levels:</b> Ensure all lines within the same block are indented equally.</li>\n",
    "<li><b>Use an IDE:</b> IDEs like PyCharm or VS Code highlight indentation errors, making them easier to spot and fix.</li>\n",
    "</ul>"
   ]
  },
  {
   "cell_type": "code",
   "execution_count": null,
   "metadata": {},
   "outputs": [],
   "source": []
  }
 ],
 "metadata": {
  "kernelspec": {
   "display_name": "Python 3",
   "language": "python",
   "name": "python3"
  },
  "language_info": {
   "codemirror_mode": {
    "name": "ipython",
    "version": 3
   },
   "file_extension": ".py",
   "mimetype": "text/x-python",
   "name": "python",
   "nbconvert_exporter": "python",
   "pygments_lexer": "ipython3",
   "version": "3.12.1"
  }
 },
 "nbformat": 4,
 "nbformat_minor": 2
}
